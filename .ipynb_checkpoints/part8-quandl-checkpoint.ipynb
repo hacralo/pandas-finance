{
 "cells": [
  {
   "cell_type": "code",
   "execution_count": 4,
   "metadata": {},
   "outputs": [
    {
     "data": {
      "text/html": [
       "<div>\n",
       "<style scoped>\n",
       "    .dataframe tbody tr th:only-of-type {\n",
       "        vertical-align: middle;\n",
       "    }\n",
       "\n",
       "    .dataframe tbody tr th {\n",
       "        vertical-align: top;\n",
       "    }\n",
       "\n",
       "    .dataframe thead th {\n",
       "        text-align: right;\n",
       "    }\n",
       "</style>\n",
       "<table border=\"1\" class=\"dataframe\">\n",
       "  <thead>\n",
       "    <tr style=\"text-align: right;\">\n",
       "      <th></th>\n",
       "      <th>NSA Value</th>\n",
       "      <th>SA Value</th>\n",
       "    </tr>\n",
       "    <tr>\n",
       "      <th>Date</th>\n",
       "      <th></th>\n",
       "      <th></th>\n",
       "    </tr>\n",
       "  </thead>\n",
       "  <tbody>\n",
       "    <tr>\n",
       "      <th>1975-01-31</th>\n",
       "      <td>34.492192</td>\n",
       "      <td>34.690360</td>\n",
       "    </tr>\n",
       "    <tr>\n",
       "      <th>1975-02-28</th>\n",
       "      <td>34.990641</td>\n",
       "      <td>35.163468</td>\n",
       "    </tr>\n",
       "    <tr>\n",
       "      <th>1975-03-31</th>\n",
       "      <td>35.502005</td>\n",
       "      <td>35.544615</td>\n",
       "    </tr>\n",
       "    <tr>\n",
       "      <th>1975-04-30</th>\n",
       "      <td>36.035970</td>\n",
       "      <td>35.922590</td>\n",
       "    </tr>\n",
       "    <tr>\n",
       "      <th>1975-05-31</th>\n",
       "      <td>36.620272</td>\n",
       "      <td>36.331621</td>\n",
       "    </tr>\n",
       "  </tbody>\n",
       "</table>\n",
       "</div>"
      ],
      "text/plain": [
       "            NSA Value   SA Value\n",
       "Date                            \n",
       "1975-01-31  34.492192  34.690360\n",
       "1975-02-28  34.990641  35.163468\n",
       "1975-03-31  35.502005  35.544615\n",
       "1975-04-30  36.035970  35.922590\n",
       "1975-05-31  36.620272  36.331621"
      ]
     },
     "execution_count": 4,
     "metadata": {},
     "output_type": "execute_result"
    }
   ],
   "source": [
    "import datetime\n",
    "import pandas as pd\n",
    "pd.core.common.is_list_like = pd.api.types.is_list_like\n",
    "import pandas_datareader.data as web\n",
    "import matplotlib.pyplot as plt\n",
    "from matplotlib import style\n",
    "import numpy as np\n",
    "import quandl\n",
    "import pickle\n",
    "import requests\n",
    "\n",
    "style.use('ggplot')\n",
    "#api_key = quandl.ApiConfig.api_key = 'yourAPIKey'\n",
    "api_key=open('datasets/key.txt','r').read()\n",
    "\n",
    "df=quandl.get(\"FMAC/HPI_AK\", authtoken=api_key)\n",
    "df.head()"
   ]
  },
  {
   "cell_type": "code",
   "execution_count": null,
   "metadata": {},
   "outputs": [],
   "source": [
    "# fiddy_states=pd.read_html('https://simple.wikipedia.org/wiki/List_of_U.S._states')\n",
    "# type(fiddy_states[2])\n",
    "\n",
    "# web = requests.get(\"https://simple.wikipedia.org/wiki/List_of_U.S._states\")\n",
    "fiddy_states = pd.read_html(\"https://simple.wikipedia.org/wiki/List_of_U.S._states\")\n",
    "states = fiddy_states[0][\"Abbr\"]\n",
    "statesToList = states['Abbr'].tolist()\n",
    "\n",
    "for i in statesToList:\n",
    "    print(i)"
   ]
  },
  {
   "cell_type": "code",
   "execution_count": 5,
   "metadata": {},
   "outputs": [],
   "source": [
    "df=quandl.get(\"FMAC/HPI_AK\", authtoken=api_key)\n",
    "# print(df.head())\n",
    "#this is a list\n",
    "def state_list():\n",
    "    fiddy_states=pd.read_html('https://simple.wikipedia.org/wiki/List_of_U.S._states')\n",
    "    states = fiddy_states[0][\"Abbr\"]\n",
    "    statesToList = states['Abbr'].tolist()\n",
    "    return statesToList\n",
    "\t#this is a dataframe\n",
    "\t# print(fiddy_states[0])\n",
    "\n",
    "\t# this is a column:\n",
    "\t# print(fiddy_states[0][0])"
   ]
  },
  {
   "cell_type": "code",
   "execution_count": 7,
   "metadata": {},
   "outputs": [],
   "source": [
    "def grab_initial_state_data():\n",
    "    states=state_list()\n",
    "    main_df=pd.DataFrame()\n",
    "    for abbv in states[:2]:\n",
    "        query = (\"FMAC/HPI_\"+str(abbv))\n",
    "        df=quandl.get(query,authtoken=api_key)\n",
    "        #df=df.pct_change()\n",
    "        df.rename(columns={'NSA Value':str(abbv) + ' NSA Value' , 'SA Value' : str(abbv) + ' SA Value'}, inplace=True)\n",
    "        # df[abbv]=(df[abbv]-df[abbv][0])/df[abbv][0]*100\n",
    "        df[str(abbv) + ' NSA Value'] = (df[str(abbv) + ' NSA Value']-df[str(abbv) + ' NSA Value'][0]) / df[str(abbv) + ' NSA Value'][0] * 100.0\n",
    "        df[str(abbv) + ' SA Value'] = (df[str(abbv) + ' SA Value']-df[str(abbv) + ' SA Value'][0]) / df[str(abbv) + ' SA Value'][0] * 100.0\n",
    "\n",
    "        # df.columns = [str(abbv)]\n",
    "        if main_df.empty:\n",
    "            main_df =df\n",
    "        else:\n",
    "            main_df=main_df.join(df)\n",
    "    pickle_out =open('datasets/fiddy_states4.pickle','wb')\n",
    "    pickle.dump(main_df,pickle_out)\n",
    "    pickle_out.close()\n",
    "        #print(main_df.head())\n",
    "grab_initial_state_data()\n"
   ]
  },
  {
   "cell_type": "code",
   "execution_count": 12,
   "metadata": {},
   "outputs": [],
   "source": [
    "def HPI_Benchmark():\n",
    "    df_bmark = quandl.get(\"FMAC/HPI_USA\", authtoken=api_key)\n",
    "    df_bmark.rename(columns={'NSA Value':'US' + '_NSA Value' , 'SA Value' : 'US' + '_SA Value'},inplace=True)\n",
    "    df_bmark['US' + '_NSA Value'] = (df_bmark['US' + '_NSA Value']-df_bmark['US' + '_NSA Value'][0]) /                 df_bmark['US' + '_NSA Value'][0] * 100.0\n",
    "    df_bmark['US' + '_SA Value'] = (df_bmark['US' + '_SA Value']-df_bmark['US' + '_SA Value'][0]) / df_bmark['US'+ '_SA Value'][0] * 100.0\n",
    "    \n",
    "    return df_bmark\n",
    "\n",
    "benchmark=HPI_Benchmark()\n"
   ]
  },
  {
   "cell_type": "code",
   "execution_count": 7,
   "metadata": {},
   "outputs": [],
   "source": [
    "# pandas pickling\n",
    "# HPI_data.to_pickle('pickle.pickle')\n",
    "# HPI_data=pd.read_pickle('pickle.pickle')\n",
    "pickle_in = open('datasets/fiddy_states4.pickle','rb')\n",
    "HPI_data = pickle.load(pickle_in)\n",
    "# HPI_data['TX']=HPI_data['TX']*2\n",
    "# print(HPI_data['TX'])"
   ]
  },
  {
   "cell_type": "code",
   "execution_count": 13,
   "metadata": {},
   "outputs": [
    {
     "data": {
      "text/plain": [
       "Date\n",
       "1975-01-31    0.000000\n",
       "1975-02-28    1.445107\n",
       "1975-03-31    2.927655\n",
       "1975-04-30    4.475731\n",
       "1975-05-31    6.169744\n",
       "Name: AK NSA Value, dtype: float64"
      ]
     },
     "execution_count": 13,
     "metadata": {},
     "output_type": "execute_result"
    }
   ],
   "source": [
    "HPI_data['AK NSA Value'].head()"
   ]
  },
  {
   "cell_type": "code",
   "execution_count": null,
   "metadata": {},
   "outputs": [],
   "source": [
    "fig=plt.figure()\n",
    "ax1=plt.subplot2grid((1,1),(0,0))\n",
    "\n",
    "#sampling\n",
    "TX1yr=HPI_data['TX NSA Value'].resample('A',how='mean') \n",
    "print(TX1yr.head())"
   ]
  },
  {
   "cell_type": "code",
   "execution_count": null,
   "metadata": {},
   "outputs": [],
   "source": [
    "#handling missing data\n",
    "Print(HPI_data[['TX NSA Value',TX1yr]].head())\n",
    "HPI_data.dropna(inplace=True)  #how='all'\n",
    "HPI_data.fillna(method='ffill',inplace=True) #fills previous values"
   ]
  },
  {
   "cell_type": "code",
   "execution_count": null,
   "metadata": {},
   "outputs": [],
   "source": [
    "#Rolling statistics\n",
    "# HPI_data['TXMA']=pd.rolling_mean(HPI_data['TX'],12)   #df['meters'].rolling(window=2, center=False).std()﻿\n",
    "# HPI_data['TXSTD']=pd.rolling_std(HPI_data['TX'],12) #deptreceated\n",
    "HPI_data['TX12MA'] = pd.Series.rolling(HPI_data['TX NSA Value'], window=120).mean()\n",
    "\n",
    "HPI_data['TX12STD'] = pd.Series.rolling(HPI_data['TX NSA Value'], window=12).std()"
   ]
  },
  {
   "cell_type": "code",
   "execution_count": null,
   "metadata": {},
   "outputs": [],
   "source": [
    "HPI_data['TX NSA Value'].plot(ax=ax1, label=\"monthly HPI TX\")\n",
    "TX1yr.plot(ax = ax1,label=\"yearly HPI TX\")\n",
    "# benchmark.plot(ax=ax1,color='k',linewidth=10)\n",
    "plt.legend(loc=4)    #.remove()\n",
    "plt.show()"
   ]
  },
  {
   "cell_type": "code",
   "execution_count": null,
   "metadata": {},
   "outputs": [],
   "source": [
    "# To find correlation\n",
    "\n",
    "# HPI_State_Correlation=HPI_data.corr()\n",
    "# print(HPI_State_Correlation)\n",
    "\n",
    "# print(HPI_State_Correlation.describe())\n"
   ]
  },
  {
   "cell_type": "code",
   "execution_count": null,
   "metadata": {},
   "outputs": [],
   "source": []
  }
 ],
 "metadata": {
  "kernelspec": {
   "display_name": "Python 3",
   "language": "python",
   "name": "python3"
  },
  "language_info": {
   "codemirror_mode": {
    "name": "ipython",
    "version": 3
   },
   "file_extension": ".py",
   "mimetype": "text/x-python",
   "name": "python",
   "nbconvert_exporter": "python",
   "pygments_lexer": "ipython3",
   "version": "3.6.4"
  }
 },
 "nbformat": 4,
 "nbformat_minor": 2
}
