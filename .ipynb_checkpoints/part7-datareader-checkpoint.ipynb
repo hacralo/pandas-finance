{
 "cells": [
  {
   "cell_type": "code",
   "execution_count": 1,
   "metadata": {},
   "outputs": [],
   "source": [
    "import datetime\n",
    "import pandas as pd\n",
    "pd.core.common.is_list_like = pd.api.types.is_list_like\n",
    "import pandas_datareader.data as web\n",
    "import matplotlib.pyplot as plt\n",
    "from matplotlib import style"
   ]
  },
  {
   "cell_type": "code",
   "execution_count": 25,
   "metadata": {},
   "outputs": [
    {
     "data": {
      "text/html": [
       "<div>\n",
       "<style scoped>\n",
       "    .dataframe tbody tr th:only-of-type {\n",
       "        vertical-align: middle;\n",
       "    }\n",
       "\n",
       "    .dataframe tbody tr th {\n",
       "        vertical-align: top;\n",
       "    }\n",
       "\n",
       "    .dataframe thead th {\n",
       "        text-align: right;\n",
       "    }\n",
       "</style>\n",
       "<table border=\"1\" class=\"dataframe\">\n",
       "  <thead>\n",
       "    <tr style=\"text-align: right;\">\n",
       "      <th></th>\n",
       "      <th>Open</th>\n",
       "      <th>High</th>\n",
       "      <th>Low</th>\n",
       "      <th>Close</th>\n",
       "      <th>Volume</th>\n",
       "      <th>ExDividend</th>\n",
       "      <th>SplitRatio</th>\n",
       "      <th>AdjOpen</th>\n",
       "      <th>AdjHigh</th>\n",
       "      <th>AdjLow</th>\n",
       "      <th>AdjClose</th>\n",
       "      <th>AdjVolume</th>\n",
       "    </tr>\n",
       "    <tr>\n",
       "      <th>Date</th>\n",
       "      <th></th>\n",
       "      <th></th>\n",
       "      <th></th>\n",
       "      <th></th>\n",
       "      <th></th>\n",
       "      <th></th>\n",
       "      <th></th>\n",
       "      <th></th>\n",
       "      <th></th>\n",
       "      <th></th>\n",
       "      <th></th>\n",
       "      <th></th>\n",
       "    </tr>\n",
       "  </thead>\n",
       "  <tbody>\n",
       "    <tr>\n",
       "      <th>2015-01-08</th>\n",
       "      <td>91.25</td>\n",
       "      <td>92.27</td>\n",
       "      <td>91.00</td>\n",
       "      <td>92.23</td>\n",
       "      <td>15466246.0</td>\n",
       "      <td>0.0</td>\n",
       "      <td>1.0</td>\n",
       "      <td>82.051428</td>\n",
       "      <td>82.968606</td>\n",
       "      <td>81.826630</td>\n",
       "      <td>82.932638</td>\n",
       "      <td>15466246.0</td>\n",
       "    </tr>\n",
       "    <tr>\n",
       "      <th>2015-01-07</th>\n",
       "      <td>90.65</td>\n",
       "      <td>91.48</td>\n",
       "      <td>90.00</td>\n",
       "      <td>90.72</td>\n",
       "      <td>13589990.0</td>\n",
       "      <td>0.0</td>\n",
       "      <td>1.0</td>\n",
       "      <td>81.511912</td>\n",
       "      <td>82.258243</td>\n",
       "      <td>80.927436</td>\n",
       "      <td>81.574855</td>\n",
       "      <td>13589990.0</td>\n",
       "    </tr>\n",
       "    <tr>\n",
       "      <th>2015-01-06</th>\n",
       "      <td>90.24</td>\n",
       "      <td>91.41</td>\n",
       "      <td>89.02</td>\n",
       "      <td>89.81</td>\n",
       "      <td>16663441.0</td>\n",
       "      <td>0.0</td>\n",
       "      <td>1.0</td>\n",
       "      <td>81.143242</td>\n",
       "      <td>82.195299</td>\n",
       "      <td>80.046226</td>\n",
       "      <td>80.756589</td>\n",
       "      <td>16663441.0</td>\n",
       "    </tr>\n",
       "    <tr>\n",
       "      <th>2015-01-05</th>\n",
       "      <td>92.10</td>\n",
       "      <td>92.40</td>\n",
       "      <td>89.50</td>\n",
       "      <td>90.29</td>\n",
       "      <td>18502381.0</td>\n",
       "      <td>0.0</td>\n",
       "      <td>1.0</td>\n",
       "      <td>82.815743</td>\n",
       "      <td>83.085501</td>\n",
       "      <td>80.477839</td>\n",
       "      <td>81.188202</td>\n",
       "      <td>18502381.0</td>\n",
       "    </tr>\n",
       "    <tr>\n",
       "      <th>2015-01-02</th>\n",
       "      <td>92.25</td>\n",
       "      <td>93.05</td>\n",
       "      <td>91.81</td>\n",
       "      <td>92.83</td>\n",
       "      <td>10219070.0</td>\n",
       "      <td>0.0</td>\n",
       "      <td>1.0</td>\n",
       "      <td>82.950622</td>\n",
       "      <td>83.669977</td>\n",
       "      <td>82.554977</td>\n",
       "      <td>83.472154</td>\n",
       "      <td>10219070.0</td>\n",
       "    </tr>\n",
       "  </tbody>\n",
       "</table>\n",
       "</div>"
      ],
      "text/plain": [
       "             Open   High    Low  Close      Volume  ExDividend  SplitRatio  \\\n",
       "Date                                                                         \n",
       "2015-01-08  91.25  92.27  91.00  92.23  15466246.0         0.0         1.0   \n",
       "2015-01-07  90.65  91.48  90.00  90.72  13589990.0         0.0         1.0   \n",
       "2015-01-06  90.24  91.41  89.02  89.81  16663441.0         0.0         1.0   \n",
       "2015-01-05  92.10  92.40  89.50  90.29  18502381.0         0.0         1.0   \n",
       "2015-01-02  92.25  93.05  91.81  92.83  10219070.0         0.0         1.0   \n",
       "\n",
       "              AdjOpen    AdjHigh     AdjLow   AdjClose   AdjVolume  \n",
       "Date                                                                \n",
       "2015-01-08  82.051428  82.968606  81.826630  82.932638  15466246.0  \n",
       "2015-01-07  81.511912  82.258243  80.927436  81.574855  13589990.0  \n",
       "2015-01-06  81.143242  82.195299  80.046226  80.756589  16663441.0  \n",
       "2015-01-05  82.815743  83.085501  80.477839  81.188202  18502381.0  \n",
       "2015-01-02  82.950622  83.669977  82.554977  83.472154  10219070.0  "
      ]
     },
     "execution_count": 25,
     "metadata": {},
     "output_type": "execute_result"
    }
   ],
   "source": [
    "style.use('fivethirtyeight')\n",
    "\n",
    "start = datetime.datetime(2015, 1, 1)\n",
    "end = datetime.datetime.now()\n",
    "\n",
    "df = web.DataReader(\"XOM\", \"quandl\", start, end)  #iex - another source if quandl is down\n",
    "df.tail()\n"
   ]
  },
  {
   "cell_type": "code",
   "execution_count": 22,
   "metadata": {},
   "outputs": [
    {
     "data": {
      "text/html": [
       "<div>\n",
       "<style scoped>\n",
       "    .dataframe tbody tr th:only-of-type {\n",
       "        vertical-align: middle;\n",
       "    }\n",
       "\n",
       "    .dataframe tbody tr th {\n",
       "        vertical-align: top;\n",
       "    }\n",
       "\n",
       "    .dataframe thead th {\n",
       "        text-align: right;\n",
       "    }\n",
       "</style>\n",
       "<table border=\"1\" class=\"dataframe\">\n",
       "  <thead>\n",
       "    <tr style=\"text-align: right;\">\n",
       "      <th></th>\n",
       "      <th>Open</th>\n",
       "      <th>High</th>\n",
       "      <th>Low</th>\n",
       "      <th>Close</th>\n",
       "      <th>Volume</th>\n",
       "      <th>ExDividend</th>\n",
       "      <th>SplitRatio</th>\n",
       "      <th>AdjOpen</th>\n",
       "      <th>AdjHigh</th>\n",
       "      <th>AdjLow</th>\n",
       "      <th>AdjClose</th>\n",
       "      <th>AdjVolume</th>\n",
       "    </tr>\n",
       "    <tr>\n",
       "      <th>Date</th>\n",
       "      <th></th>\n",
       "      <th></th>\n",
       "      <th></th>\n",
       "      <th></th>\n",
       "      <th></th>\n",
       "      <th></th>\n",
       "      <th></th>\n",
       "      <th></th>\n",
       "      <th></th>\n",
       "      <th></th>\n",
       "      <th></th>\n",
       "      <th></th>\n",
       "    </tr>\n",
       "  </thead>\n",
       "  <tbody>\n",
       "    <tr>\n",
       "      <th>2018-03-27</th>\n",
       "      <td>74.00</td>\n",
       "      <td>74.8949</td>\n",
       "      <td>73.2750</td>\n",
       "      <td>73.70</td>\n",
       "      <td>14625541.0</td>\n",
       "      <td>0.0</td>\n",
       "      <td>1.0</td>\n",
       "      <td>74.00</td>\n",
       "      <td>74.8949</td>\n",
       "      <td>73.2750</td>\n",
       "      <td>73.70</td>\n",
       "      <td>14625541.0</td>\n",
       "    </tr>\n",
       "    <tr>\n",
       "      <th>2018-03-26</th>\n",
       "      <td>73.65</td>\n",
       "      <td>74.1500</td>\n",
       "      <td>72.7548</td>\n",
       "      <td>74.00</td>\n",
       "      <td>14894438.0</td>\n",
       "      <td>0.0</td>\n",
       "      <td>1.0</td>\n",
       "      <td>73.65</td>\n",
       "      <td>74.1500</td>\n",
       "      <td>72.7548</td>\n",
       "      <td>74.00</td>\n",
       "      <td>14894438.0</td>\n",
       "    </tr>\n",
       "    <tr>\n",
       "      <th>2018-03-23</th>\n",
       "      <td>73.81</td>\n",
       "      <td>74.2100</td>\n",
       "      <td>72.6700</td>\n",
       "      <td>72.89</td>\n",
       "      <td>19069634.0</td>\n",
       "      <td>0.0</td>\n",
       "      <td>1.0</td>\n",
       "      <td>73.81</td>\n",
       "      <td>74.2100</td>\n",
       "      <td>72.6700</td>\n",
       "      <td>72.89</td>\n",
       "      <td>19069634.0</td>\n",
       "    </tr>\n",
       "    <tr>\n",
       "      <th>2018-03-22</th>\n",
       "      <td>74.42</td>\n",
       "      <td>74.7000</td>\n",
       "      <td>73.3900</td>\n",
       "      <td>73.50</td>\n",
       "      <td>17118037.0</td>\n",
       "      <td>0.0</td>\n",
       "      <td>1.0</td>\n",
       "      <td>74.42</td>\n",
       "      <td>74.7000</td>\n",
       "      <td>73.3900</td>\n",
       "      <td>73.50</td>\n",
       "      <td>17118037.0</td>\n",
       "    </tr>\n",
       "    <tr>\n",
       "      <th>2018-03-21</th>\n",
       "      <td>74.23</td>\n",
       "      <td>75.6400</td>\n",
       "      <td>73.9800</td>\n",
       "      <td>75.04</td>\n",
       "      <td>14813757.0</td>\n",
       "      <td>0.0</td>\n",
       "      <td>1.0</td>\n",
       "      <td>74.23</td>\n",
       "      <td>75.6400</td>\n",
       "      <td>73.9800</td>\n",
       "      <td>75.04</td>\n",
       "      <td>14813757.0</td>\n",
       "    </tr>\n",
       "  </tbody>\n",
       "</table>\n",
       "</div>"
      ],
      "text/plain": [
       "             Open     High      Low  Close      Volume  ExDividend  \\\n",
       "Date                                                                 \n",
       "2018-03-27  74.00  74.8949  73.2750  73.70  14625541.0         0.0   \n",
       "2018-03-26  73.65  74.1500  72.7548  74.00  14894438.0         0.0   \n",
       "2018-03-23  73.81  74.2100  72.6700  72.89  19069634.0         0.0   \n",
       "2018-03-22  74.42  74.7000  73.3900  73.50  17118037.0         0.0   \n",
       "2018-03-21  74.23  75.6400  73.9800  75.04  14813757.0         0.0   \n",
       "\n",
       "            SplitRatio  AdjOpen  AdjHigh   AdjLow  AdjClose   AdjVolume  \n",
       "Date                                                                     \n",
       "2018-03-27         1.0    74.00  74.8949  73.2750     73.70  14625541.0  \n",
       "2018-03-26         1.0    73.65  74.1500  72.7548     74.00  14894438.0  \n",
       "2018-03-23         1.0    73.81  74.2100  72.6700     72.89  19069634.0  \n",
       "2018-03-22         1.0    74.42  74.7000  73.3900     73.50  17118037.0  \n",
       "2018-03-21         1.0    74.23  75.6400  73.9800     75.04  14813757.0  "
      ]
     },
     "execution_count": 22,
     "metadata": {},
     "output_type": "execute_result"
    }
   ],
   "source": [
    "df.reset_index(inplace=True)\n",
    "df.set_index(\"Date\", inplace=True)\n",
    "df.drop(\"index\",axis=1, inplace=True )\n",
    "df.head()\n"
   ]
  },
  {
   "cell_type": "code",
   "execution_count": 26,
   "metadata": {},
   "outputs": [
    {
     "data": {
      "image/png": "[encoded data removed]",
      "text/plain": [
       "<Figure size 432x288 with 1 Axes>"
      ]
     },
     "metadata": {},
     "output_type": "display_data"
    }
   ],
   "source": [
    "df['High'].plot()\n",
    "plt.legend()\n",
    "plt.show()"
   ]
  },
  {
   "cell_type": "code",
   "execution_count": 27,
   "metadata": {},
   "outputs": [
    {
     "name": "stdout",
     "output_type": "stream",
     "text": [
      "     Visitors  Bounce_Rate\n",
      "day                       \n",
      "1          43           65\n",
      "2          53           72\n",
      "3          34           62\n",
      "4          45           64\n",
      "5          64           54\n"
     ]
    }
   ],
   "source": [
    "import datetime\n",
    "import pandas as pd\n",
    "pd.core.common.is_list_like = pd.api.types.is_list_like\n",
    "import pandas_datareader.data as web\n",
    "import matplotlib.pyplot as plt\n",
    "from matplotlib import style\n",
    "import numpy as np\n",
    "\n",
    "\n",
    "style.use('ggplot')\n",
    "web_stats={'day':[1,2,3,4,5,6],\n",
    "\t\t  'Visitors':[43,53,34,45,64,34],\n",
    "\t\t  'Bounce_Rate':[65,72,62,64,54,66]\t}\n",
    "\n",
    "df=pd.DataFrame(web_stats)\n",
    "df.set_index('day',inplace=True)\n",
    "print(df.head())\n",
    "\n",
    "#print(df.Bounce_Rate) or print(df['Bounce_Rate'])\n",
    "\n",
    "#print(df[['Bounce_Rate','Visitors']])\n",
    "#print(df.Visitors.tolist())\n",
    "#print(np.array(df[['Bounce_Rate','Visitors']]))\n",
    "\n"
   ]
  },
  {
   "cell_type": "code",
   "execution_count": 30,
   "metadata": {},
   "outputs": [
    {
     "name": "stdout",
     "output_type": "stream",
     "text": [
      "         Date   Value\n",
      "0  2018-07-31  1304.0\n",
      "1  2018-06-30  1305.0\n",
      "2  2018-05-31  1302.0\n",
      "3  2018-04-30  1295.0\n",
      "4  2018-03-31  1288.0\n"
     ]
    }
   ],
   "source": [
    "# ZILLOW-C25709_ZRISFRR.csv\n",
    "\n",
    "df = pd.read_csv('datasets/homevalue/ZILLOW-C25709_ZRISFRR.csv')\n",
    "print(df.head())"
   ]
  },
  {
   "cell_type": "code",
   "execution_count": 29,
   "metadata": {},
   "outputs": [],
   "source": [
    "df.set_index('Date', inplace = True)"
   ]
  },
  {
   "cell_type": "code",
   "execution_count": 33,
   "metadata": {},
   "outputs": [],
   "source": [
    "df.to_csv('datasets/homevalue/newcsv2.csv')"
   ]
  },
  {
   "cell_type": "code",
   "execution_count": 64,
   "metadata": {},
   "outputs": [
    {
     "name": "stdout",
     "output_type": "stream",
     "text": [
      "         Date   Value\n",
      "0  2018-07-31  1304.0\n",
      "1  2018-06-30  1305.0\n",
      "2  2018-05-31  1302.0\n",
      "3  2018-04-30  1295.0\n",
      "4  2018-03-31  1288.0\n"
     ]
    }
   ],
   "source": [
    "df = pd.read_csv('datasets/homevalue/newcsv2.csv', index_col=0)\n",
    "print(df.head())"
   ]
  },
  {
   "cell_type": "code",
   "execution_count": 65,
   "metadata": {},
   "outputs": [
    {
     "name": "stdout",
     "output_type": "stream",
     "text": [
      "         Date  House_Prices\n",
      "0  2018-07-31        1304.0\n",
      "1  2018-06-30        1305.0\n",
      "2  2018-05-31        1302.0\n",
      "3  2018-04-30        1295.0\n",
      "4  2018-03-31        1288.0\n"
     ]
    }
   ],
   "source": [
    "df = df.rename(columns={'Value':'House_Prices'})\n",
    "print(df.head())"
   ]
  },
  {
   "cell_type": "code",
   "execution_count": 66,
   "metadata": {},
   "outputs": [
    {
     "data": {
      "text/html": [
       "<div>\n",
       "<style scoped>\n",
       "    .dataframe tbody tr th:only-of-type {\n",
       "        vertical-align: middle;\n",
       "    }\n",
       "\n",
       "    .dataframe tbody tr th {\n",
       "        vertical-align: top;\n",
       "    }\n",
       "\n",
       "    .dataframe thead th {\n",
       "        text-align: right;\n",
       "    }\n",
       "</style>\n",
       "<table border=\"1\" class=\"dataframe\">\n",
       "  <thead>\n",
       "    <tr style=\"text-align: right;\">\n",
       "      <th></th>\n",
       "      <th>House_Prices</th>\n",
       "    </tr>\n",
       "    <tr>\n",
       "      <th>Date</th>\n",
       "      <th></th>\n",
       "    </tr>\n",
       "  </thead>\n",
       "  <tbody>\n",
       "    <tr>\n",
       "      <th>2018-07-31</th>\n",
       "      <td>1304.0</td>\n",
       "    </tr>\n",
       "    <tr>\n",
       "      <th>2018-06-30</th>\n",
       "      <td>1305.0</td>\n",
       "    </tr>\n",
       "    <tr>\n",
       "      <th>2018-05-31</th>\n",
       "      <td>1302.0</td>\n",
       "    </tr>\n",
       "    <tr>\n",
       "      <th>2018-04-30</th>\n",
       "      <td>1295.0</td>\n",
       "    </tr>\n",
       "    <tr>\n",
       "      <th>2018-03-31</th>\n",
       "      <td>1288.0</td>\n",
       "    </tr>\n",
       "  </tbody>\n",
       "</table>\n",
       "</div>"
      ],
      "text/plain": [
       "            House_Prices\n",
       "Date                    \n",
       "2018-07-31        1304.0\n",
       "2018-06-30        1305.0\n",
       "2018-05-31        1302.0\n",
       "2018-04-30        1295.0\n",
       "2018-03-31        1288.0"
      ]
     },
     "execution_count": 66,
     "metadata": {},
     "output_type": "execute_result"
    }
   ],
   "source": [
    "df = df.set_index('Date')\n",
    "df.head()"
   ]
  },
  {
   "cell_type": "code",
   "execution_count": 67,
   "metadata": {},
   "outputs": [],
   "source": [
    "df.to_csv('datasets/homevalue/newcsv4.csv', header=False)"
   ]
  },
  {
   "cell_type": "code",
   "execution_count": 70,
   "metadata": {},
   "outputs": [
    {
     "name": "stdout",
     "output_type": "stream",
     "text": [
      "            House_Price\n",
      "Date                   \n",
      "2018-07-31       1304.0\n",
      "2018-06-30       1305.0\n",
      "2018-05-31       1302.0\n",
      "2018-04-30       1295.0\n",
      "2018-03-31       1288.0\n"
     ]
    }
   ],
   "source": [
    "df = pd.read_csv('datasets/homevalue/newcsv4.csv',names = ['Date','House_Price'], index_col=0)\n",
    "print(df.head())"
   ]
  },
  {
   "cell_type": "code",
   "execution_count": null,
   "metadata": {},
   "outputs": [],
   "source": []
  }
 ],
 "metadata": {
  "kernelspec": {
   "display_name": "Python 3",
   "language": "python",
   "name": "python3"
  },
  "language_info": {
   "codemirror_mode": {
    "name": "ipython",
    "version": 3
   },
   "file_extension": ".py",
   "mimetype": "text/x-python",
   "name": "python",
   "nbconvert_exporter": "python",
   "pygments_lexer": "ipython3",
   "version": "3.6.4"
  }
 },
 "nbformat": 4,
 "nbformat_minor": 2
}
